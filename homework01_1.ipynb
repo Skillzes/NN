{
  "cells": [
    {
      "cell_type": "markdown",
      "metadata": {
        "id": "S-IEdgU1vX1s"
      },
      "source": [
        "# Home Work 01\n",
        "1. Numpy\n",
        "1. Pytorch (tensor (basic operations))"
      ]
    },
    {
      "cell_type": "markdown",
      "metadata": {
        "id": "m8jyS7xWvX1u"
      },
      "source": [
        "# DEADLINE\n",
        "\n",
        "### IS-142 - 08.10.24\n",
        "### IS-141 - 15.10.24"
      ]
    },
    {
      "cell_type": "markdown",
      "metadata": {
        "id": "NkCs9btqvX1u"
      },
      "source": [
        "## BLOKE №1 (numpy)"
      ]
    },
    {
      "cell_type": "markdown",
      "metadata": {
        "id": "ltMQOx_cvX1v"
      },
      "source": [
        "1. Импортировать NumPy под именем np"
      ]
    },
    {
      "cell_type": "code",
      "execution_count": null,
      "metadata": {
        "id": "P9dtoowBvX1v"
      },
      "outputs": [],
      "source": [
        "import numpy as np"
      ]
    },
    {
      "cell_type": "markdown",
      "metadata": {
        "id": "eF0Jaw74vX1w"
      },
      "source": [
        "2. Создать вектор (одномерный массив) размера 20, заполненный нулями"
      ]
    },
    {
      "cell_type": "code",
      "execution_count": null,
      "metadata": {
        "id": "oCWiNntsvX1w"
      },
      "outputs": [],
      "source": [
        "vector_zeros = np.zeros(20)"
      ]
    },
    {
      "cell_type": "markdown",
      "metadata": {
        "id": "Pl-G-dCfvX1w"
      },
      "source": [
        "3. Создать вектор размера 20, заполненный числом 1.75"
      ]
    },
    {
      "cell_type": "code",
      "execution_count": null,
      "metadata": {
        "id": "7hw9D62WvX1x",
        "colab": {
          "base_uri": "https://localhost:8080/",
          "height": 141
        },
        "outputId": "29f09689-6755-4c97-91e3-bbb34025ddd5"
      },
      "outputs": [
        {
          "output_type": "error",
          "ename": "NameError",
          "evalue": "name 'np' is not defined",
          "traceback": [
            "\u001b[0;31m---------------------------------------------------------------------------\u001b[0m",
            "\u001b[0;31mNameError\u001b[0m                                 Traceback (most recent call last)",
            "\u001b[0;32m<ipython-input-2-e3e143ace17c>\u001b[0m in \u001b[0;36m<cell line: 0>\u001b[0;34m()\u001b[0m\n\u001b[0;32m----> 1\u001b[0;31m \u001b[0mvector_ones\u001b[0m \u001b[0;34m=\u001b[0m \u001b[0mnp\u001b[0m\u001b[0;34m.\u001b[0m\u001b[0mfull\u001b[0m\u001b[0;34m(\u001b[0m\u001b[0;36m20\u001b[0m\u001b[0;34m,\u001b[0m \u001b[0;36m1.75\u001b[0m\u001b[0;34m)\u001b[0m\u001b[0;34m\u001b[0m\u001b[0;34m\u001b[0m\u001b[0m\n\u001b[0m",
            "\u001b[0;31mNameError\u001b[0m: name 'np' is not defined"
          ]
        }
      ],
      "source": [
        "vector_ones = np.full(20, 1.75)"
      ]
    },
    {
      "cell_type": "markdown",
      "metadata": {
        "id": "CastzwtlvX1x"
      },
      "source": [
        "4. Создать вектор со значениями от 4 до 31"
      ]
    },
    {
      "cell_type": "code",
      "execution_count": null,
      "metadata": {
        "id": "sKtTEph2vX1x"
      },
      "outputs": [],
      "source": [
        "vector_range = np.arange(4, 32)"
      ]
    },
    {
      "cell_type": "markdown",
      "metadata": {
        "id": "EU1TfsXPvX1x"
      },
      "source": [
        "5. Развернуть вектор (первый становится последним)"
      ]
    },
    {
      "cell_type": "code",
      "execution_count": null,
      "metadata": {
        "id": "vSKWWl9UvX1x"
      },
      "outputs": [],
      "source": [
        "vector_reversed = vector_range[::-1]"
      ]
    },
    {
      "cell_type": "markdown",
      "metadata": {
        "id": "rQ6OuvmBvX1x"
      },
      "source": [
        "6. Создать матрицу (двумерный массив) 3x3 со значениями от 1 до 9"
      ]
    },
    {
      "cell_type": "code",
      "execution_count": null,
      "metadata": {
        "id": "3nMVcUXZvX1y"
      },
      "outputs": [],
      "source": [
        "matrix_3x3 = np.arange(1, 10).reshape(3, 3)"
      ]
    },
    {
      "cell_type": "markdown",
      "metadata": {
        "id": "UutdUCKKvX1y"
      },
      "source": [
        "7. Создать 3x3 единичную матрицу"
      ]
    },
    {
      "cell_type": "code",
      "execution_count": null,
      "metadata": {
        "id": "QijZqeUuvX1y"
      },
      "outputs": [],
      "source": [
        "identity_matrix = np.eye(3)"
      ]
    },
    {
      "cell_type": "markdown",
      "metadata": {
        "id": "hmHedXXhvX1y"
      },
      "source": [
        "8. Создать 4x4 пустую матрицу"
      ]
    },
    {
      "cell_type": "code",
      "execution_count": null,
      "metadata": {
        "id": "QRJtF-51vX1y"
      },
      "outputs": [],
      "source": [
        "empty_matrix = np.empty((4, 4))"
      ]
    },
    {
      "cell_type": "markdown",
      "metadata": {
        "id": "uch2YgYLvX1y"
      },
      "source": [
        "9. Создать единичную матрицу 4x4 со сдвигом на единицу вниз относительно главной диагонали"
      ]
    },
    {
      "cell_type": "code",
      "execution_count": null,
      "metadata": {
        "id": "LOB3QLyXvX1y"
      },
      "outputs": [],
      "source": [
        "shifted_identity_matrix = np.eye(4, k=1)"
      ]
    },
    {
      "cell_type": "markdown",
      "metadata": {
        "id": "T7pl9U0KvX1y"
      },
      "source": [
        "10. Создать тензор 3x3x3 со случайными значениями"
      ]
    },
    {
      "cell_type": "code",
      "execution_count": null,
      "metadata": {
        "id": "zhhUBRJLvX1z"
      },
      "outputs": [],
      "source": [
        "random_tensor = np.random.rand(3, 3, 3)"
      ]
    },
    {
      "cell_type": "markdown",
      "metadata": {
        "id": "wrZ0NnGdvX1z"
      },
      "source": [
        "11. Создать массив 5x5 со случайными значениями, найти минимум и максимум"
      ]
    },
    {
      "cell_type": "code",
      "execution_count": null,
      "metadata": {
        "id": "Jz0tVLTfvX1z"
      },
      "outputs": [],
      "source": [
        "random_matrix = np.random.rand(5, 5)\n",
        "min_value = random_matrix.min()\n",
        "max_value = random_matrix.max()"
      ]
    },
    {
      "cell_type": "markdown",
      "metadata": {
        "id": "LWWowrcyvX1z"
      },
      "source": [
        "12. Создать случайный вектор размера 50 и найти среднее значение всех элементов"
      ]
    },
    {
      "cell_type": "code",
      "execution_count": null,
      "metadata": {
        "id": "NI0OkM-RvX1z"
      },
      "outputs": [],
      "source": [
        "random_vector = np.random.rand(50)\n",
        "mean_value = random_vector.mean()"
      ]
    },
    {
      "cell_type": "markdown",
      "metadata": {
        "id": "YFXnYSrovX10"
      },
      "source": [
        "13. Создать матрицу с 0 внутри, и 1 на границах"
      ]
    },
    {
      "cell_type": "code",
      "execution_count": null,
      "metadata": {
        "id": "Ae9k4hpivX10"
      },
      "outputs": [],
      "source": [
        "border_matrix = np.ones((5, 5))\n",
        "border_matrix[1:-1, 1:-1] = 0"
      ]
    },
    {
      "cell_type": "markdown",
      "metadata": {
        "id": "Xw-nA1P1vX10"
      },
      "source": [
        "14. Создать 5x5 матрицу с 1,2,3,4 под диагональю"
      ]
    },
    {
      "cell_type": "code",
      "execution_count": null,
      "metadata": {
        "id": "kH_19iL_vX10"
      },
      "outputs": [],
      "source": [
        "matrix_with_diagonal = np.diag(np.arange(1, 5), k=-1)"
      ]
    },
    {
      "cell_type": "markdown",
      "metadata": {
        "id": "rNtfqTUSvX10"
      },
      "source": [
        "15. Перемножить матрицы 5x3 и 3x2"
      ]
    },
    {
      "cell_type": "code",
      "execution_count": null,
      "metadata": {
        "id": "rqb7d4YZvX10"
      },
      "outputs": [],
      "source": [
        "matrix_a = np.random.rand(5, 3)\n",
        "matrix_b = np.random.rand(3, 2)\n",
        "matrix_product = np.dot(matrix_a, matrix_b)"
      ]
    },
    {
      "cell_type": "markdown",
      "metadata": {
        "id": "NuAtlKFRvX10"
      },
      "source": [
        "16. Создать вектор состоящий из 15 элементов, поменять знак у элементов, значения которых между 6 и 12"
      ]
    },
    {
      "cell_type": "code",
      "execution_count": null,
      "metadata": {
        "id": "yOJPoe9gvX10"
      },
      "outputs": [],
      "source": [
        "vector_15 = np.arange(15)\n",
        "vector_15[(vector_15 > 6) & (vector_15 < 12)] *= -1"
      ]
    },
    {
      "cell_type": "markdown",
      "metadata": {
        "id": "SdOST0bbvX10"
      },
      "source": [
        "17. Создать 2 матрицы A(3x3) и B(3x3), получить матрицу С путем поэлеметного умножения."
      ]
    },
    {
      "cell_type": "code",
      "execution_count": null,
      "metadata": {
        "id": "QdnMOr6PvX11"
      },
      "outputs": [],
      "source": [
        "matrix_A = np.random.rand(3, 3)\n",
        "matrix_B = np.random.rand(3, 3)\n",
        "matrix_C = matrix_A * matrix_B"
      ]
    },
    {
      "cell_type": "markdown",
      "metadata": {
        "id": "pthyW1nvvX11"
      },
      "source": [
        "18. Найти максимальные и минимальные значения матрицы С по строкам и столбцам"
      ]
    },
    {
      "cell_type": "code",
      "execution_count": null,
      "metadata": {
        "id": "-S-DBXh-vX11"
      },
      "outputs": [],
      "source": [
        "max_rows = matrix_C.max(axis=1)\n",
        "min_rows = matrix_C.min(axis=1)\n",
        "max_cols = matrix_C.max(axis=0)\n",
        "min_cols = matrix_C.min(axis=0)"
      ]
    },
    {
      "cell_type": "markdown",
      "metadata": {
        "id": "C3xr67gpvX2D"
      },
      "source": [
        "19. Создать вектор со значениями от 0 до 1 c 10 наблюдениями"
      ]
    },
    {
      "cell_type": "code",
      "execution_count": null,
      "metadata": {
        "id": "uzAW6fVJvX2D"
      },
      "outputs": [],
      "source": [
        "vector_10 = np.linspace(0, 1, 10)"
      ]
    },
    {
      "cell_type": "markdown",
      "metadata": {
        "id": "-HR78UHbvX2D"
      },
      "source": [
        "20. Отсортировать вектор"
      ]
    },
    {
      "cell_type": "code",
      "execution_count": null,
      "metadata": {
        "id": "sUnqFYV-vX2E"
      },
      "outputs": [],
      "source": [
        "sorted_vector = np.sort(vector_10)"
      ]
    },
    {
      "cell_type": "markdown",
      "metadata": {
        "id": "5RZf4KOvvX2E"
      },
      "source": [
        "21. Проверить, одинаковы ли 2 numpy массива"
      ]
    },
    {
      "cell_type": "code",
      "execution_count": null,
      "metadata": {
        "id": "08XP_4Z2vX2E"
      },
      "outputs": [],
      "source": [
        "array1 = np.array([1, 2, 3])\n",
        "array2 = np.array([1, 2, 3])\n",
        "are_equal = np.array_equal(array1, array2)"
      ]
    },
    {
      "cell_type": "markdown",
      "metadata": {
        "id": "bb0UP7T3vX2E"
      },
      "source": [
        "22. Сделать массив неизменяемым"
      ]
    },
    {
      "cell_type": "code",
      "execution_count": null,
      "metadata": {
        "id": "lCHVNOoGvX2E"
      },
      "outputs": [],
      "source": [
        "immutable_array = np.array([1, 2, 3])\n",
        "immutable_array.flags.writeable = False"
      ]
    },
    {
      "cell_type": "markdown",
      "metadata": {
        "id": "uIB9G6OwvX2E"
      },
      "source": [
        "23. Создать случайный вектор из 20 элементов, найти квантиль от 10% и от 80%"
      ]
    },
    {
      "cell_type": "code",
      "execution_count": null,
      "metadata": {
        "id": "RfZYrmNzvX2F"
      },
      "outputs": [],
      "source": [
        "random_vector = np.random.rand(20)\n",
        "quantile_10 = np.quantile(random_vector, 0.10)\n",
        "quantile_80 = np.quantile(random_vector, 0.80)"
      ]
    },
    {
      "cell_type": "markdown",
      "metadata": {
        "id": "uMp0SiGHvX2F"
      },
      "source": [
        "24. Создать массив любой размерности состоящий из int и string"
      ]
    },
    {
      "cell_type": "code",
      "execution_count": null,
      "metadata": {
        "id": "jnI6fVA4vX2F"
      },
      "outputs": [],
      "source": [
        "mixed_array = np.array([[1, 'a'], [2, 'b'], [3, 'c']], dtype=object)"
      ]
    },
    {
      "cell_type": "markdown",
      "metadata": {
        "id": "tJhpn0uqvX2F"
      },
      "source": [
        "25. Найти минимальное и максимальное значение, принимаемое каждым числовым типом numpy"
      ]
    },
    {
      "cell_type": "code",
      "execution_count": null,
      "metadata": {
        "id": "nE1S7iHfvX2F"
      },
      "outputs": [],
      "source": [
        "int8_min = np.iinfo(np.int8).min\n",
        "int8_max = np.iinfo(np.int8).max\n",
        "float64_min = np.finfo(np.float64).min\n",
        "float64_max = np.finfo(np.float64).max"
      ]
    },
    {
      "cell_type": "markdown",
      "metadata": {
        "id": "x-sXwLbrvX2F"
      },
      "source": [
        "26. Преобразовать массив из float в int"
      ]
    },
    {
      "cell_type": "code",
      "execution_count": null,
      "metadata": {
        "id": "PlFK1i1ivX2F"
      },
      "outputs": [],
      "source": [
        "float_array = np.array([1.5, 2.7, 3.9])\n",
        "int_array = float_array.astype(int)"
      ]
    },
    {
      "cell_type": "markdown",
      "metadata": {
        "id": "7BUHrXSmvX2G"
      },
      "source": [
        "27. Отнять среднее из каждой строки в матрице"
      ]
    },
    {
      "cell_type": "code",
      "execution_count": null,
      "metadata": {
        "id": "C9LV_kvFvX2G"
      },
      "outputs": [],
      "source": [
        "matrix = np.array([[1, 2, 3], [4, 5, 6], [7, 8, 9]])\n",
        "row_means = matrix.mean(axis=1, keepdims=True)\n",
        "centered_matrix = matrix - row_means"
      ]
    },
    {
      "cell_type": "markdown",
      "metadata": {
        "id": "hM6dCyglvX2G"
      },
      "source": [
        "28.\n",
        "\n",
        "Дана данные из файла.\n",
        "\n",
        "1,2,3,4,5\n",
        "\n",
        "6,,,7,8\n",
        "\n",
        ",,9,10,11\n",
        "\n",
        "Необходимо прочитать его\n"
      ]
    },
    {
      "cell_type": "code",
      "execution_count": null,
      "metadata": {
        "id": "ko-SteI3vX2G"
      },
      "outputs": [],
      "source": [
        "from io import StringIO\n",
        "\n",
        "data = \"\"\"1,2,3,4,5\n",
        "6,,,7,8\n",
        ",,9,10,11\"\"\""
      ]
    },
    {
      "cell_type": "markdown",
      "metadata": {
        "id": "wbODzAh_vX2G"
      },
      "source": [
        "29. Посчитайте сумму квадратов натуральных чисел от 1 до 10000."
      ]
    },
    {
      "cell_type": "code",
      "execution_count": null,
      "metadata": {
        "id": "BJ6Cnx-bvX2H"
      },
      "outputs": [],
      "source": [
        "numbers = np.arange(1, 10001)\n",
        "sum_of_squares = np.sum(numbers ** 2)"
      ]
    },
    {
      "cell_type": "markdown",
      "metadata": {
        "id": "35nKADFFvX2H"
      },
      "source": [
        "## BLOKE №2 (tensors)"
      ]
    },
    {
      "cell_type": "markdown",
      "metadata": {
        "id": "fsOl0wcHvX2H"
      },
      "source": [
        "1. Импортируйте pytorch"
      ]
    },
    {
      "cell_type": "code",
      "execution_count": null,
      "metadata": {
        "id": "mHwg8UewvX2H"
      },
      "outputs": [],
      "source": [
        "import torch\n",
        "import numpy as np"
      ]
    },
    {
      "cell_type": "markdown",
      "metadata": {
        "id": "7VQ9HQaHvX2H"
      },
      "source": [
        "2. Создать вектор состящий из 10 элементов"
      ]
    },
    {
      "cell_type": "code",
      "execution_count": null,
      "metadata": {
        "id": "RD0zeOY8vX2H"
      },
      "outputs": [],
      "source": [
        "vector = torch.arange(10)"
      ]
    },
    {
      "cell_type": "markdown",
      "metadata": {
        "id": "FUsr0jBLvX2I"
      },
      "source": [
        "3. Создать тензор из python list"
      ]
    },
    {
      "cell_type": "code",
      "execution_count": null,
      "metadata": {
        "id": "XAv2-tTCvX2I"
      },
      "outputs": [],
      "source": [
        "tensor_from_list = torch.tensor([1, 2, 3, 4, 5])"
      ]
    },
    {
      "cell_type": "markdown",
      "metadata": {
        "id": "Bo4HSxkDvX2I"
      },
      "source": [
        "4. Создать тензор из np.array"
      ]
    },
    {
      "cell_type": "code",
      "execution_count": null,
      "metadata": {
        "id": "Nm_rYtaEvX2I"
      },
      "outputs": [],
      "source": [
        "np_array = np.array([6, 7, 8, 9, 10])\n",
        "tensor_from_np = torch.from_numpy(np_array)"
      ]
    },
    {
      "cell_type": "markdown",
      "metadata": {
        "id": "PnWPGRs3vX2I"
      },
      "source": [
        "5. Создать тензор с нормальным распределением"
      ]
    },
    {
      "cell_type": "code",
      "execution_count": null,
      "metadata": {
        "id": "JrmvZ5XBvX2I"
      },
      "outputs": [],
      "source": [
        "normal_tensor = torch.randn(10)"
      ]
    },
    {
      "cell_type": "markdown",
      "metadata": {
        "id": "qCYArBfdvX2I"
      },
      "source": [
        "6. Создать тензор размером 3х3х3"
      ]
    },
    {
      "cell_type": "code",
      "execution_count": null,
      "metadata": {
        "id": "v9LVjqUPvX2J"
      },
      "outputs": [],
      "source": [
        "tensor_3x3x3 = torch.rand(3, 3, 3)"
      ]
    },
    {
      "cell_type": "markdown",
      "metadata": {
        "id": "9I-HVz5BvX2J"
      },
      "source": [
        "7. Создать единичную матрицу размером 4х5"
      ]
    },
    {
      "cell_type": "code",
      "execution_count": null,
      "metadata": {
        "id": "a5bbmZdxvX2J"
      },
      "outputs": [],
      "source": [
        "identity_matrix = torch.eye(4, 5)"
      ]
    },
    {
      "cell_type": "markdown",
      "metadata": {
        "id": "1szSn6V-vX2J"
      },
      "source": [
        "8. Создать вектор размера 25, заполнить елементами со значениме pi"
      ]
    },
    {
      "cell_type": "code",
      "execution_count": null,
      "metadata": {
        "id": "hRQp7r1nvX2J"
      },
      "outputs": [],
      "source": [
        "pi_vector = torch.full((25,), 3.14159)"
      ]
    },
    {
      "cell_type": "markdown",
      "metadata": {
        "id": "ejq1mv9cvX2J"
      },
      "source": [
        "9. Умножить матрицу размера 9, заполненная от 0 до 8, поэлементно на любое число"
      ]
    },
    {
      "cell_type": "code",
      "execution_count": null,
      "metadata": {
        "id": "iERiEUgUvX2J"
      },
      "outputs": [],
      "source": [
        "matrix = torch.arange(9).reshape(3, 3)\n",
        "multiplied_matrix = matrix * 2"
      ]
    },
    {
      "cell_type": "markdown",
      "metadata": {
        "id": "l3CwT4KevX2J"
      },
      "source": [
        "10. Создать произвольный тензор с типом данных int8"
      ]
    },
    {
      "cell_type": "code",
      "execution_count": null,
      "metadata": {
        "id": "HYpcWFBQvX2K"
      },
      "outputs": [],
      "source": [
        "int8_tensor = torch.tensor([1, 2, 3], dtype=torch.int8)"
      ]
    },
    {
      "cell_type": "markdown",
      "metadata": {
        "id": "9TRE4ArAvX2K"
      },
      "source": [
        "11. Изменить тип данных из пункта 10 на int64"
      ]
    },
    {
      "cell_type": "code",
      "execution_count": null,
      "metadata": {
        "id": "n3rchpNsvX2K"
      },
      "outputs": [],
      "source": [
        "int64_tensor = int8_tensor.to(torch.int64)"
      ]
    },
    {
      "cell_type": "markdown",
      "metadata": {
        "id": "wq9m2dQDvX2K"
      },
      "source": [
        "12. Создать случайный тензор размера 4x5 и найти среднее по 2му столбцу."
      ]
    },
    {
      "cell_type": "code",
      "execution_count": null,
      "metadata": {
        "id": "vrzdgvUxvX2K"
      },
      "outputs": [],
      "source": [
        "random_tensor = torch.rand(4, 5)\n",
        "mean_second_column = random_tensor[:, 1].mean()"
      ]
    },
    {
      "cell_type": "markdown",
      "metadata": {
        "id": "GUSRG2vDvX2K"
      },
      "source": [
        "13. Создать пустой тензор произвольных размеров"
      ]
    },
    {
      "cell_type": "code",
      "execution_count": null,
      "metadata": {
        "id": "XZz_1j1nvX2L"
      },
      "outputs": [],
      "source": [
        "empty_tensor = torch.empty(2, 3)"
      ]
    },
    {
      "cell_type": "markdown",
      "metadata": {
        "id": "cZb4A-htvX2L"
      },
      "source": [
        "14. Скалярно умножить 2 вектора"
      ]
    },
    {
      "cell_type": "code",
      "execution_count": null,
      "metadata": {
        "id": "-oRSDyYzvX2L"
      },
      "outputs": [],
      "source": [
        "vector1 = torch.tensor([1, 2, 3])\n",
        "vector2 = torch.tensor([4, 5, 6])\n",
        "dot_product = torch.dot(vector1, vector2)"
      ]
    },
    {
      "cell_type": "markdown",
      "metadata": {
        "id": "Go6mnZURvX2L"
      },
      "source": [
        "15. Умножить матрицу на вектор"
      ]
    },
    {
      "cell_type": "code",
      "execution_count": null,
      "metadata": {
        "id": "wvXTTlFNvX2L"
      },
      "outputs": [],
      "source": [
        "matrix = torch.tensor([[1, 2], [3, 4]])\n",
        "vector = torch.tensor([5, 6])\n",
        "matrix_vector_product = torch.matmul(matrix, vector)"
      ]
    },
    {
      "cell_type": "markdown",
      "metadata": {
        "id": "BN_DOZG6vX2M"
      },
      "source": [
        "16. Перемножить 2D матрицы"
      ]
    },
    {
      "cell_type": "code",
      "execution_count": null,
      "metadata": {
        "id": "eUf9-SfKvX2M"
      },
      "outputs": [],
      "source": [
        "matrix1 = torch.tensor([[1, 2], [3, 4]])\n",
        "matrix2 = torch.tensor([[5, 6], [7, 8]])\n",
        "matrix_product = torch.matmul(matrix1, matrix2)"
      ]
    },
    {
      "cell_type": "markdown",
      "metadata": {
        "id": "aIM-WsfsvX2M"
      },
      "source": [
        "17. Перемножить 3D тензоры"
      ]
    },
    {
      "cell_type": "code",
      "execution_count": null,
      "metadata": {
        "id": "-3xKv4fwvX2M"
      },
      "outputs": [],
      "source": [
        "tensor1 = torch.rand(2, 3, 4)\n",
        "tensor2 = torch.rand(2, 4, 5)\n",
        "tensor_product = torch.matmul(tensor1, tensor2)"
      ]
    },
    {
      "cell_type": "markdown",
      "metadata": {
        "id": "UCabf6DovX2M"
      },
      "source": [
        "18. Создать вектор с нормальным распределением и вывести элементы больше 0.5"
      ]
    },
    {
      "cell_type": "code",
      "execution_count": null,
      "metadata": {
        "id": "y8pvIcw2vX2M"
      },
      "outputs": [],
      "source": [
        "normal_vector = torch.randn(10)\n",
        "elements_gt_05 = normal_vector[normal_vector > 0.5]"
      ]
    },
    {
      "cell_type": "markdown",
      "metadata": {
        "id": "bG288vq5vX2M"
      },
      "source": [
        "19. Создать матрицу 3х3 заполненную единицами и заменить 1й столбец на 4"
      ]
    },
    {
      "cell_type": "code",
      "execution_count": null,
      "metadata": {
        "id": "toP2DyLqvX2M"
      },
      "outputs": [],
      "source": [
        "ones_matrix = torch.ones(3, 3)\n",
        "ones_matrix[:, 0] = 4"
      ]
    },
    {
      "cell_type": "markdown",
      "metadata": {
        "id": "kihk1sUQvX2N"
      },
      "source": [
        "20. Создать матрицу и вывести сумму по каждой строке"
      ]
    },
    {
      "cell_type": "code",
      "execution_count": null,
      "metadata": {
        "id": "esJy2HWCvX2N"
      },
      "outputs": [],
      "source": [
        "matrix = torch.tensor([[1, 2, 3], [4, 5, 6]])\n",
        "row_sum = matrix.sum(dim=1)"
      ]
    },
    {
      "cell_type": "markdown",
      "metadata": {
        "id": "JZZL4FXKvX2N"
      },
      "source": [
        "20. Создать матрицу и вывести среднее по каждому столбцу"
      ]
    },
    {
      "cell_type": "code",
      "execution_count": null,
      "metadata": {
        "id": "-ilVxtk8vX2N"
      },
      "outputs": [],
      "source": [
        "column_mean = matrix.mean(dim=0)"
      ]
    },
    {
      "cell_type": "markdown",
      "metadata": {
        "id": "uV2OPXa1vX2N"
      },
      "source": [
        "21. Создать 2 вектора и сконкатенировать по 1 оси"
      ]
    },
    {
      "cell_type": "code",
      "execution_count": null,
      "metadata": {
        "id": "Xvb5L7kCvX2N"
      },
      "outputs": [],
      "source": [
        "vector1 = torch.tensor([1, 2, 3])\n",
        "vector2 = torch.tensor([4, 5, 6])\n",
        "concatenated = torch.cat((vector1, vector2), dim=0)"
      ]
    },
    {
      "cell_type": "markdown",
      "metadata": {
        "id": "a806AzYCvX2N"
      },
      "source": [
        "22. Перемножим две большие единичные матрицы.\n",
        "Сначал на центральном процессоре, затем попробуйте на GPU"
      ]
    },
    {
      "cell_type": "code",
      "execution_count": null,
      "metadata": {
        "id": "0iqWcsvbvX2O"
      },
      "outputs": [],
      "source": [
        "large_identity1 = torch.eye(1000)\n",
        "large_identity2 = torch.eye(1000)\n",
        "\n",
        "# CPU\n",
        "cpu_product = torch.matmul(large_identity1, large_identity2)\n",
        "\n",
        "# GPU\n",
        "if torch.cuda.is_available():\n",
        "    large_identity1_gpu = large_identity1.to('cuda')\n",
        "    large_identity2_gpu = large_identity2.to('cuda')\n",
        "    gpu_product = torch.matmul(large_identity1_gpu, large_identity2_gpu)"
      ]
    }
  ],
  "metadata": {
    "kernelspec": {
      "display_name": "NeuNetwork",
      "language": "python",
      "name": "python3"
    },
    "language_info": {
      "codemirror_mode": {
        "name": "ipython",
        "version": 3
      },
      "file_extension": ".py",
      "mimetype": "text/x-python",
      "name": "python",
      "nbconvert_exporter": "python",
      "pygments_lexer": "ipython3",
      "version": "3.12.4"
    },
    "colab": {
      "provenance": []
    }
  },
  "nbformat": 4,
  "nbformat_minor": 0
}